{
 "cells": [
  {
   "cell_type": "markdown",
   "metadata": {},
   "source": [
    "# Hồi quy tuyến tính\n",
    "*Hoàn thành toàn bộ phần bài tập trong notebook này, bao gồm toàn bộ kết quả đầu ra và code hỗ trợ.*\n",
    "\n",
    "***\"Không có một sự kiện nào trên đời là ngẫu nhiên, những thứ đang cho là ngẫu nhiên chỉ là những sự kiện ta chưa tìm ra được mô hình để biểu diễn quy luật của chúng\".***\n",
    "\n",
    "Xây dựng mô hình **Hồi quy tuyến tính** bao gồm hai phần:\n",
    "- Trong quá trình huấn luyện, bộ phân lớp lấy dữ liệu huấn luyện và và học các tham số mô hình.\n",
    "- Trong quá trình kiếm tra, mô hình phân lớp từng đối tượng bằng cách nhân giá trị của mẫu với các tham số mô hình để tìm ra giá trị của nhãn.\n",
    "- Giá trị của tham số được kiểm định chéo.\n",
    "Trong bài tập này, bạn sẽ cài đặt những bước trên và hiểu được qui trình Xây dựng một mô hình đơn giản với Học tham số, kiểm định chéo, và hiểu được cách viết code hiệu quả với vectorize.\n",
    "\n",
    "Bài toán dự đoán giá nhà Boston được sử dụng trong bài tập này."
   ]
  },
  {
   "cell_type": "code",
   "execution_count": 1,
   "metadata": {
    "collapsed": true
   },
   "outputs": [],
   "source": [
    "# Import một số thư viện cần thiết.\n",
    "import random\n",
    "import numpy as np\n",
    "from sklearn import datasets\n",
    "from sklearn.model_selection import train_test_split \n",
    "import matplotlib.pyplot as plt\n",
    "\n",
    "# Sử dụng một mẹo nhỏ để vẽ hình trên cùng một dòng thay vì mở cửa sổ mới\n",
    "%matplotlib inline\n",
    "plt.rcParams['figure.figsize'] = (10.0, 8.0) # đặt kích thước mặc định cho hình\n",
    "plt.rcParams['image.interpolation'] = 'nearest'\n",
    "plt.rcParams['image.cmap'] = 'gray'\n",
    "\n",
    "# Một mẹo nhỏ để notebook tự load lại các module bên ngoài;\n",
    "# xem thêm tại http://stackoverflow.com/questions/1907993/autoreload-of-modules-in-ipython\n",
    "%load_ext autoreload\n",
    "%autoreload 2"
   ]
  },
  {
   "cell_type": "code",
   "execution_count": 2,
   "metadata": {},
   "outputs": [
    {
     "name": "stdout",
     "output_type": "stream",
     "text": [
      "Training data shape:  (404, 13)\n",
      "Training labels shape:  (404,)\n",
      "Test data shape:  (102, 13)\n",
      "Test labels shape:  (102,)\n"
     ]
    }
   ],
   "source": [
    "# Tải dữ liệu Giá nhà Boston từ Scikit-learn.\n",
    "boston = datasets.load_boston()\n",
    "X_train, X_test, y_train, y_test = train_test_split(boston.data, \\\n",
    "                                                    boston.target, test_size=0.2)\n",
    "\n",
    "# As a sanity check, we print out the size of the training and test data.\n",
    "print('Training data shape: ', X_train.shape)\n",
    "print('Training labels shape: ', y_train.shape)\n",
    "print('Test data shape: ', X_test.shape)\n",
    "print('Test labels shape: ', y_test.shape)"
   ]
  },
  {
   "cell_type": "markdown",
   "metadata": {},
   "source": [
    "## Load dữ liệu\n",
    "Hồi qui tuyến tính đơn giản là một cách tiếp cận để dự đoán phản ứng (giá trị đầu ra) khi dữ liệu có một đặc trưng duy nhất. Khi giả sử hai biến $x$ và $y$ liên hệ tuyến  tính thì mục tiêu của mô hình là cố tìm ra đường tuyến tính tốt nhất để dự đoán phản ứng ($y$). \n",
    "\n",
    "Đường đó được gọi là đường hồi quy.\n",
    "\n",
    "Công thức cho đường hồi quy được biểu diễn như sau:\n",
    "$$ \\hat{Y} = h(X) = XW$$\n",
    "Trong đó: \n",
    "\n",
    "- $X$ là ma trận có kích thước $N \\times D$ với $X_{ij}$ là giá trị của đặc trưng thứ $j$ của mẫu $i$.\n",
    "- $W$ là ma trận tham số có kích thước $D \\times 1$\n",
    "- $Y$ là giá trị phản ứng của $N$ mẫu.\n",
    "\n"
   ]
  },
  {
   "cell_type": "code",
   "execution_count": 3,
   "metadata": {},
   "outputs": [
    {
     "data": {
      "image/png": "[encoded data removed]",
      "text/plain": [
       "<matplotlib.figure.Figure at 0x174e673c390>"
      ]
     },
     "metadata": {},
     "output_type": "display_data"
    }
   ],
   "source": [
    "# Biểu diễn một số ví dụ trong tập huấn luyện sử dụng một đặc trưng duy nhất.\n",
    "# LSTAT - % lower status of the population\n",
    "plt.scatter(X_train[:,12], y_train)\n",
    "plt.xlabel(\"Crime rate\")\n",
    "plt.ylabel(\"House's price\")\n",
    "plt.show()"
   ]
  },
  {
   "cell_type": "markdown",
   "metadata": {},
   "source": [
    "## Huấn luyện mô hình\n",
    "Tất cả code cho phần bài tập này được lưu trong tệp **models/linear_regression.py** và **models/linear_loss.py**.\n",
    "### Cập nhật tham số\n",
    "Quá trình huấn luyện mô hình thực chất là từ dữ liệu để học ra tham số mô hình phù hợp nhất với mô hình sinh dữ liệu. Trong mô hình hồi quy tuyến tính, ta cần học tham số $W$.\n",
    "\n",
    "Khi khởi tạo mô hình, ta giả sử tham số được khởi tạo ngẫu nhiên. Sử dụng tham số $W$ đó, ta ước lượng được giá trị $Y$:\n",
    "$$ \\hat{y} = h(X) = WX $$\n",
    "\n",
    "Tổng sai số, độ lệch của giá trị dự đoán so với giá trị thực tế gọi là hàm giá trị (Cost function):\n",
    "$$ J(w) = \\frac{1}{2N}\\sum_{i=1}^{N} (\\hat{y}_i - y_i)^2 = \\frac{1}{2N}\\sum_{i=1}^{N}\\sum_{j=1}^{D} (w_{j}x_{ij} - y_{ij})^2$$\n",
    "\n",
    "\n",
    "Chúng ta sử thuật toán **xuống đồi (Gradient descent)** để tối ưu tham số $W$. (Xem khóa [Machine Learning](https://www.coursera.org/learn/machine-learning/))\n",
    "\n",
    "Đột tụt dốc của tham số $W$ được cập nhật theo công thức:\n",
    "$$ dw_i = \\frac{\\partial}{\\partial w_i}J(w)$$\n",
    "\n",
    "Đầu tiên, mở file ```models/linear_loss.py``` và cài đặt hàm ```linear_loss_naive```, sử dụng vòng lặp để tính hàm giá trị (Cost function)."
   ]
  },
  {
   "cell_type": "code",
   "execution_count": 4,
   "metadata": {},
   "outputs": [
    {
     "name": "stdout",
     "output_type": "stream",
     "text": [
      "loss: 317.627716\n"
     ]
    }
   ],
   "source": [
    "from models.linear_loss import linear_loss_naive\n",
    "import time\n",
    "\n",
    "# sinh ngẫu nhiên các trọng số (W) với các giá trị nhỏ\n",
    "W = np.random.randn(13, ) * 0.0001 \n",
    "\n",
    "loss, grad = linear_loss_naive(W, X_test, y_test, 0.00001)\n",
    "print('loss: %f' % (loss, ))"
   ]
  },
  {
   "cell_type": "markdown",
   "metadata": {},
   "source": [
    "Lúc này, các giá trị gradient được trả về đều bằng 0. Đạo hàm và tính gradient theo công thức được cho ở trên trong cùng hàm ```linear_loss_naive```. Bạn sẽ thấy một số thứ hữu ích trong phần cài đặt trước đó.\n",
    "\n",
    "Để đảm bảo là bạn đã cài đặt đúng, chúng ta sẽ sử dụng hàm ```grad_check_sparse``` (đã được cài đặt sẵn) để kiểm tra."
   ]
  },
  {
   "cell_type": "code",
   "execution_count": 5,
   "metadata": {
    "scrolled": true
   },
   "outputs": [
    {
     "name": "stdout",
     "output_type": "stream",
     "text": [
      "numerical: -1489.247140 analytic: -1489.247140, relative error: 1.934722e-12\n",
      "numerical: -47.538861 analytic: -47.538861, relative error: 5.700359e-11\n",
      "numerical: -47.538861 analytic: -47.538861, relative error: 5.700359e-11\n",
      "numerical: -12.358066 analytic: -12.358066, relative error: 2.473646e-10\n",
      "numerical: -209.758746 analytic: -209.758746, relative error: 1.323807e-13\n",
      "numerical: -153.292933 analytic: -153.292933, relative error: 1.919963e-11\n",
      "numerical: -47.538861 analytic: -47.538861, relative error: 5.700359e-11\n",
      "numerical: -235.347992 analytic: -235.347992, relative error: 1.440076e-11\n",
      "numerical: -1489.247140 analytic: -1489.247140, relative error: 1.934722e-12\n",
      "numerical: -400.930973 analytic: -400.930973, relative error: 3.634494e-12\n",
      "numerical: -1.938952 analytic: -1.938952, relative error: 7.728434e-10\n",
      "numerical: -400.921810 analytic: -400.921810, relative error: 3.819389e-12\n",
      "numerical: -1.938952 analytic: -1.938952, relative error: 7.728434e-10\n",
      "numerical: -235.330468 analytic: -235.330468, relative error: 1.173726e-11\n",
      "numerical: -1.938952 analytic: -1.938952, relative error: 7.728434e-10\n",
      "numerical: -8423.950178 analytic: -8423.950178, relative error: 1.421904e-13\n",
      "numerical: -1489.247877 analytic: -1489.247877, relative error: 2.494816e-12\n",
      "numerical: -153.289808 analytic: -153.289808, relative error: 1.388075e-11\n",
      "numerical: -8423.950178 analytic: -8423.950178, relative error: 1.421904e-13\n",
      "numerical: -400.921810 analytic: -400.921810, relative error: 3.819389e-12\n"
     ]
    }
   ],
   "source": [
    "# Bởi vì bạn đã cài đặt hàm gradient, tính toán gradient với code dưới đây và\n",
    "# kiểm tra với hàm grad_check_sparse(...) đã cho.\n",
    "\n",
    "# Tính toán loss và grad với W.\n",
    "loss, grad = linear_loss_naive(W, X_test, y_test, 0.0)\n",
    "\n",
    "# Tính toán gradient theo một số chiều ngẫu nhiên và so sánh chúng với kết quả\n",
    "# của bạn. Giá trị phải gần như chính xác theo tất cả các chiều.\n",
    "from models.gradient_check import grad_check_sparse\n",
    "f = lambda w: linear_loss_naive(w, X_test, y_test, 0.0)[0]\n",
    "grad_numerical = grad_check_sparse(f, W, grad)\n",
    "\n",
    "# thực hiện kiểm tra khi có sử dụng regularization\n",
    "# đừng quên cài đặt gradient với regularization nhé.\n",
    "loss, grad = linear_loss_naive(W, X_test, y_test, 1e2)\n",
    "f = lambda w: linear_loss_naive(w, X_test, y_test, 1e2)[0]\n",
    "grad_numerical = grad_check_sparse(f, W, grad)\n",
    "\n",
    "# Kết quả relative error trong khoảng 1e-12"
   ]
  },
  {
   "cell_type": "code",
   "execution_count": 6,
   "metadata": {},
   "outputs": [
    {
     "name": "stdout",
     "output_type": "stream",
     "text": [
      "Naive loss: 3.176277e+02 computed in 0.001003s\n",
      "Vectorized loss: 3.176277e+02 computed in 0.281843s\n",
      "difference: 0.000000\n"
     ]
    }
   ],
   "source": [
    "# Kế tiếp, cài đặt linear_loss_vectorized; hiện tại chỉ tính toán hàm giá trị;\n",
    "# gradient sẽ cài đặt sau.\n",
    "tic = time.time()\n",
    "loss_naive, grad_naive = linear_loss_naive(W, X_test, y_test, 0.00001)\n",
    "toc = time.time()\n",
    "print('Naive loss: %e computed in %fs' % (loss_naive, toc - tic))\n",
    "\n",
    "# Vectorized\n",
    "from models.linear_loss import linear_loss_vectorized\n",
    "tic = time.time()\n",
    "loss_vectorized, _ = linear_loss_vectorized(W, X_test, y_test, 0.00001)\n",
    "toc = time.time()\n",
    "print('Vectorized loss: %e computed in %fs' % (loss_vectorized, toc - tic))\n",
    "\n",
    "# Hàm giá trị khi vectorized nên có cùng giá trị với giá trị được tính bằng hàm\n",
    "# linear_loss_naive() nhưng tính toán nhanh hơn\n",
    "print('difference: %f' % (loss_naive - loss_vectorized))"
   ]
  },
  {
   "cell_type": "code",
   "execution_count": 7,
   "metadata": {},
   "outputs": [
    {
     "name": "stdout",
     "output_type": "stream",
     "text": [
      "Naive loss and gradient: computed in 0.001501s\n",
      "Vectorized loss and gradient: computed in 0.000503s\n",
      "difference: 2.0957638366420943e-12\n"
     ]
    }
   ],
   "source": [
    "# Hoàn thiện phần cài đặt của linear_loss_vectorized, và tính toán gradient theo\n",
    "# cách vectorized.\n",
    "\n",
    "# Hai hàm tính loss và gradient nên cho kết quả giống nhau nhưng bản vectorized \n",
    "# tính toán nhanh hơn.\n",
    "tic = time.time()\n",
    "_, grad_naive = linear_loss_naive(W, X_test, y_test, 0.00001)\n",
    "toc = time.time()\n",
    "print('Naive loss and gradient: computed in %fs' % (toc - tic))\n",
    "\n",
    "tic = time.time()\n",
    "_, grad_vectorized = linear_loss_vectorized(W, X_test, y_test, 0.00001)\n",
    "toc = time.time()\n",
    "print('Vectorized loss and gradient: computed in %fs' % (toc - tic))\n",
    "\n",
    "# So sánh gradient\n",
    "difference = np.linalg.norm(grad_naive - grad_vectorized)\n",
    "print('difference: {}'.format(difference))"
   ]
  },
  {
   "cell_type": "markdown",
   "metadata": {
    "collapsed": true
   },
   "source": [
    "### Huấn luyện với hàm cập nhật\n",
    "Sử dụng các hàm ```loss``` đã cài đặt ở trên để cài đặt hàm ```train``` trong tệp **linear_regression.py**.\n",
    "\n",
    "Tham số W được cập nhật từng thành phần theo công thức:\n",
    "$$ w_i =  w_i -\\alpha\\frac{\\partial}{\\partial w_i}J(w)$$"
   ]
  },
  {
   "cell_type": "code",
   "execution_count": 19,
   "metadata": {},
   "outputs": [
    {
     "name": "stdout",
     "output_type": "stream",
     "text": [
      "[[ -8.62199051e+00]\n",
      " [ -3.18438264e+02]\n",
      " [ -2.04472443e+02]\n",
      " [  5.73542690e+01]\n",
      " [ -5.99897201e+01]\n",
      " [ -1.55855014e+02]\n",
      " [ -1.55545940e+03]\n",
      " [ -7.49886988e+01]\n",
      " [ -1.63124730e+02]\n",
      " [ -8.81089227e+03]\n",
      " [ -3.46040699e+02]\n",
      " [ -8.45757811e+03]\n",
      " [ -2.53970878e+02]]\n",
      "iteration 0 / 1500: loss 300.923554\n",
      "[[  4.66640702e+01]\n",
      " [ -6.83667313e+01]\n",
      " [  2.39851414e+01]\n",
      " [  3.55950583e+01]\n",
      " [ -2.92953712e+01]\n",
      " [ -1.62515075e+01]\n",
      " [ -6.26196010e+01]\n",
      " [  4.16066096e-01]\n",
      " [  3.46621777e+01]\n",
      " [  9.07356407e+01]\n",
      " [  2.47017329e+01]\n",
      " [ -5.65771103e+02]\n",
      " [  9.20676295e+00]]\n",
      "iteration 100 / 1500: loss 90.134024\n",
      "[[  27.78491114]\n",
      " [ -35.23095236]\n",
      " [  16.87351496]\n",
      " [  21.58690213]\n",
      " [ -17.57783675]\n",
      " [  -7.59055641]\n",
      " [ -18.70226651]\n",
      " [   1.96723305]\n",
      " [  21.81661574]\n",
      " [ 146.58719651]\n",
      " [  21.20532428]\n",
      " [-190.20551978]\n",
      " [   8.66758127]]\n",
      "iteration 200 / 1500: loss 88.633465\n",
      "[[ 15.99339811]\n",
      " [-19.61740798]\n",
      " [  9.72514456]\n",
      " [ 13.07942913]\n",
      " [-10.64296268]\n",
      " [ -4.34518835]\n",
      " [-11.59076779]\n",
      " [  1.53948735]\n",
      " [ 12.10879372]\n",
      " [ 73.39760445]\n",
      " [ 13.34133252]\n",
      " [-89.79070792]\n",
      " [  4.96007049]]\n",
      "iteration 300 / 1500: loss 88.301224\n",
      "[[  9.26789591]\n",
      " [-11.07510827]\n",
      " [  5.61261571]\n",
      " [  7.92424291]\n",
      " [ -6.44647375]\n",
      " [ -2.52934996]\n",
      " [ -7.36750459]\n",
      " [  1.08958217]\n",
      " [  6.76350996]\n",
      " [ 35.60156211]\n",
      " [  8.26232323]\n",
      " [-43.22736395]\n",
      " [  2.82230443]]\n",
      "iteration 400 / 1500: loss 88.220712\n",
      "[[  5.40996716]\n",
      " [ -6.31594648]\n",
      " [  3.26424687]\n",
      " [  4.80081054]\n",
      " [ -3.9047687 ]\n",
      " [ -1.48279602]\n",
      " [ -4.63219108]\n",
      " [  0.73578847]\n",
      " [  3.81936909]\n",
      " [ 17.24523987]\n",
      " [  5.09110865]\n",
      " [-20.81023477]\n",
      " [  1.62061644]]\n",
      "iteration 500 / 1500: loss 88.200860\n",
      "[[  3.17806992]\n",
      " [ -3.6343425 ]\n",
      " [  1.91169547]\n",
      " [  2.90845299]\n",
      " [ -2.36523665]\n",
      " [ -0.87426805]\n",
      " [ -2.88583231]\n",
      " [  0.48239578]\n",
      " [  2.17904049]\n",
      " [  8.3546672 ]\n",
      " [  3.12568978]\n",
      " [-10.00580669]\n",
      " [  0.93871594]]\n",
      "iteration 600 / 1500: loss 88.195845\n",
      "[[ 1.87704065]\n",
      " [-2.10791915]\n",
      " [ 1.12626251]\n",
      " [ 1.76198461]\n",
      " [-1.43271122]\n",
      " [-0.51796801]\n",
      " [-1.78543706]\n",
      " [ 0.30998522]\n",
      " [ 1.25474019]\n",
      " [ 4.0485516 ]\n",
      " [ 1.91363021]\n",
      " [-4.80302364]\n",
      " [ 0.54790145]]\n",
      "iteration 700 / 1500: loss 88.194537\n",
      "[[ 1.11365664]\n",
      " [-1.23104415]\n",
      " [ 0.66687579]\n",
      " [ 1.06742224]\n",
      " [-0.86785373]\n",
      " [-0.30811354]\n",
      " [-1.09880708]\n",
      " [ 0.19638585]\n",
      " [ 0.7284367 ]\n",
      " [ 1.96248742]\n",
      " [ 1.16900219]\n",
      " [-2.3007662 ]\n",
      " [ 0.32190361]]\n",
      "iteration 800 / 1500: loss 88.194182\n",
      "[[ 0.66323442]\n",
      " [-0.72320059]\n",
      " [ 0.39653112]\n",
      " [ 0.64664459]\n",
      " [-0.52569938]\n",
      " [-0.18389415]\n",
      " [-0.67348575]\n",
      " [ 0.12313518]\n",
      " [ 0.42590911]\n",
      " [ 0.95165739]\n",
      " [ 0.71289026]\n",
      " [-1.09920283]\n",
      " [ 0.19018497]]\n",
      "iteration 900 / 1500: loss 88.194081\n",
      "[[ 0.39622002]\n",
      " [-0.42699026]\n",
      " [ 0.23660546]\n",
      " [ 0.391734  ]\n",
      " [-0.31844236]\n",
      " [-0.11005699]\n",
      " [-0.41149067]\n",
      " [ 0.07661339]\n",
      " [ 0.25054689]\n",
      " [ 0.46169687]\n",
      " [ 0.43414911]\n",
      " [-0.52336854]\n",
      " [ 0.11289282]]\n",
      "iteration 1000 / 1500: loss 88.194050\n",
      "[[ 0.23731068]\n",
      " [-0.25316347]\n",
      " [ 0.14158589]\n",
      " [ 0.23730881]\n",
      " [-0.1928973 ]\n",
      " [-0.06601509]\n",
      " [-0.25079333]\n",
      " [ 0.04739066]\n",
      " [ 0.14815051]\n",
      " [ 0.22411931]\n",
      " [ 0.26411188]\n",
      " [-0.24810467]\n",
      " [ 0.06727514]]\n",
      "iteration 1100 / 1500: loss 88.194041\n",
      "[[ 0.14243154]\n",
      " [-0.15062646]\n",
      " [ 0.08492523]\n",
      " [ 0.14375867]\n",
      " [-0.11684848]\n",
      " [-0.03967016]\n",
      " [-0.15255507]\n",
      " [ 0.02918369]\n",
      " [ 0.08798259]\n",
      " [ 0.10886793]\n",
      " [ 0.16053393]\n",
      " [-0.11694656]\n",
      " [ 0.04022031]]\n",
      "iteration 1200 / 1500: loss 88.194038\n",
      "[[ 0.08563153]\n",
      " [-0.08987826]\n",
      " [ 0.05103708]\n",
      " [ 0.08708679]\n",
      " [-0.07078173]\n",
      " [-0.02387426]\n",
      " [-0.09265532]\n",
      " [ 0.01790969]\n",
      " [ 0.05243873]\n",
      " [ 0.05292754]\n",
      " [ 0.09751064]\n",
      " [-0.05471204]\n",
      " [ 0.02410943]]\n",
      "iteration 1300 / 1500: loss 88.194037\n",
      "[[ 0.05155372]\n",
      " [-0.05375725]\n",
      " [ 0.03071924]\n",
      " [ 0.05275565]\n",
      " [-0.0428766 ]\n",
      " [-0.01438527]\n",
      " [-0.05620647]\n",
      " [ 0.01096147]\n",
      " [ 0.03134702]\n",
      " [ 0.02575725]\n",
      " [ 0.05919756]\n",
      " [-0.02534109]\n",
      " [ 0.0144833 ]]\n",
      "iteration 1400 / 1500: loss 88.194036\n",
      "That took 0.673849s\n"
     ]
    }
   ],
   "source": [
    "# Ở trong tệp linear_regression.py, cài đặt hàm LinearRegression.train() và chạy\n",
    "# hàm đó với code sau\n",
    "from models.linear_regression import LinearRegression\n",
    "clf = LinearRegression()\n",
    "tic = time.time()\n",
    "loss_hist = clf.train(X_train, y_train, learning_rate=1e-7, reg=5e4, num_iters=1500, verbose=True)\n",
    "toc = time.time()\n",
    "print('That took %fs' % (toc - tic))"
   ]
  },
  {
   "cell_type": "code",
   "execution_count": 20,
   "metadata": {},
   "outputs": [
    {
     "data": {
      "image/png": "[encoded data removed]",
      "text/plain": [
       "<matplotlib.figure.Figure at 0x174e869bda0>"
      ]
     },
     "metadata": {},
     "output_type": "display_data"
    }
   ],
   "source": [
    "# Một chiến thuật debug hiệu quả được sử dụng đó là vẽ ra lịch sử mất mát (loss \n",
    "# history) như là một hàm với số lần lặp.\n",
    "plt.plot(loss_hist)\n",
    "plt.xlabel('Iteration number')\n",
    "plt.ylabel('Loss value')\n",
    "plt.show()"
   ]
  },
  {
   "cell_type": "code",
   "execution_count": 21,
   "metadata": {},
   "outputs": [
    {
     "name": "stdout",
     "output_type": "stream",
     "text": [
      "training accuracy: 0.000000\n",
      "validation accuracy: 0.000000\n"
     ]
    }
   ],
   "source": [
    "# Cài đặt hàm LinearRegression.predict đánh giá hiệu năng mô hình trên cả tập\n",
    "# huấn luyện và tệp kiểm tra.\n",
    "y_train_pred = clf.predict(X_train)\n",
    "print('training accuracy: %f' % (np.mean(y_train == y_train_pred), ))\n",
    "y_test_pred = clf.predict(X_test)\n",
    "print('validation accuracy: %f' % (np.mean(y_test == y_test_pred), ))"
   ]
  },
  {
   "cell_type": "markdown",
   "metadata": {
    "collapsed": true
   },
   "source": [
    "### Sự chính quy hóa (Regularization)\n",
    "\n",
    "Regularization, một cách cơ bản, là thay đổi mô hình một chút để tránh overfitting trong khi vẫn giữ được tính tổng quát của nó (tính tổng quát là tính mô tả được nhiều dữ liệu, trong cả tập training và test).\n",
    "\n",
    "Có rất nhiều phương pháp được sử dụng để chính quy hóa một mô hình, trong đó, chúng ta sẽ tìm hiểu về phương pháp $L_2 \\, regularization$.\n",
    "\n",
    "#### Regularized loss function\n",
    "Kỹ thuật regularization phổ biến nhất là thêm vào hàm mất mát một số hạng nữa. Số hạng này thường dùng để đánh giá độ phức tạp của mô hình. Số hạng này càng lớn, thì mô hình càng phức tạp. Hàm mất mát mới này thường được gọi là `regularized loss function`, thường được định nghĩa như sau:\n",
    "$$ J_{reg}(\\theta) = J(\\theta) + \\lambda R(\\theta)$$\n",
    "\n",
    "Trong đó:\n",
    "- $\\theta$ là tham số mô hình (trong trường hợp này là $w$)\n",
    "- $\\lambda$ là hằng số regularization\n",
    "- $R(\\theta)$ là số hạng regularization\n",
    "\n",
    "Kỹ thuật `l2 regularization`sử dụng $R(\\theta) = R(w) = ||w||_2^2$.\n",
    "\n",
    "#### Cập nhật tham số\n",
    "Do tham số được cập nhật dựa trên đạo hàm của hàm mất mát, ta cần xây dựng lại công thức tính đạo hàm theo cách sau:\n",
    "$$ w_i =  w_i -\\alpha\\frac{\\partial}{\\partial w_i}J_{reg}(w)$$\n",
    "\n",
    "** Bài tập:** Dựa trên 2 công thức chuẩn hóa có ở trên, viết lại code cho bộ phân lớp `Linear Regression` và chạy tiếp code sau để tìm được mô hình tối ưu."
   ]
  },
  {
   "cell_type": "code",
   "execution_count": 22,
   "metadata": {},
   "outputs": [
    {
     "name": "stdout",
     "output_type": "stream",
     "text": [
      "best validation accuracy achieved during cross-validation: -1.000000\n"
     ]
    }
   ],
   "source": [
    "# Sử dụng tập kiểm tra để điều chỉnh các siêu tham số (độ lớn của reg và tỉ\n",
    "# lệ học. Bạn nên thực nghiệm với nhiều khoảng giá trị của 2 siêu tham số này\n",
    "# Nếu bạn đủ cẩn thận, bạn có thể đạt độ chính xác ... trên tập kiểm tra.\n",
    "learning_rates = [1e-7, 5e-5]\n",
    "regularization_strengths = [5e4, 1e5]\n",
    "\n",
    "# kết quả là một từ điển ánh xạ từ tuple có dạng (reg, lr) sang tuple có dạng\n",
    "# (train_acc, test_acc). Độ chính xác chỉ đơn giản là tỉ lệ mẫu dự đoán chính\n",
    "# xác trên toàn tập dữ liệu.\n",
    "results = {}\n",
    "best_test = -1   # Hiệu năng tốt nhất mà chúng ta sẽ đạt được.\n",
    "best_linear = None # Mô hình LinearRegression có hiệu năng tốt nhất.\n",
    "\n",
    "################################################################################\n",
    "# TODO:                                                                        #\n",
    "# Viết code chọn các siêu tham số tốt nhất bằng cách điều chỉnh trên tập kiểm  #\n",
    "# tra. Với mỗi tổ hợp siêu tham số, huấn luyện một mô hình LinearRegression    #\n",
    "# trên tập huấn luyện, tính toán độ chính xác trên tập huấn luyện và tập kiểm  #\n",
    "# tra, và lưu những con số này vào từ điển kết quả. Thêm vào đó, lưu hiệu năng #\n",
    "# tốt nhất trên tập kiểm tra vào best_val và mô hình LinearRegression tương    #\n",
    "# ứng vào best_svm.                                                            #  \n",
    "#                                                                              #\n",
    "# Gợi ý: Bạn nên sử dụng số vòng lặp (num_iters) nhỏ khi xây dựng code kiểm    #\n",
    "# tra để mô hình không mất quá nhiều thời gian để huấn luyện. Khi đã chắc chắn,#\n",
    "# bạn nên trả về kết quả với số vòng lặp lớn                                   #\n",
    "################################################################################\n",
    "pass\n",
    "################################################################################\n",
    "#                              KẾT THÚC                                        #\n",
    "################################################################################\n",
    "    \n",
    "# In kết quả\n",
    "for lr, reg in sorted(results):\n",
    "    train_accuracy, test_accuracy = results[(lr, reg)]\n",
    "    print('lr %e reg %e train accuracy: %f val accuracy: %f' % (\n",
    "                lr, reg, train_accuracy, test_accuracy))\n",
    "    \n",
    "print('best validation accuracy achieved during cross-validation: %f' % best_test)"
   ]
  },
  {
   "cell_type": "code",
   "execution_count": null,
   "metadata": {
    "collapsed": true
   },
   "outputs": [],
   "source": [
    "# Visualize kết quả kiểm thử chéo\n",
    "import math\n",
    "x_scatter = [math.log10(x[0]) for x in results]\n",
    "y_scatter = [math.log10(x[1]) for x in results]\n",
    "\n",
    "# plot training accuracy\n",
    "marker_size = 100\n",
    "colors = [results[x][0] for x in results]\n",
    "plt.subplot(2, 1, 1)\n",
    "plt.scatter(x_scatter, y_scatter, marker_size, c=colors)\n",
    "plt.colorbar()\n",
    "plt.xlabel('log learning rate')\n",
    "plt.ylabel('log regularization strength')\n",
    "plt.title('Boston training accuracy')\n",
    "\n",
    "# vẽ hiệu năng trên tập kiểm tra\n",
    "colors = [results[x][1] for x in results] # kích thước mặc định của marker là 20\n",
    "plt.subplot(2, 1, 2)\n",
    "plt.scatter(x_scatter, y_scatter, marker_size, c=colors)\n",
    "plt.colorbar()\n",
    "plt.xlabel('log learning rate')\n",
    "plt.ylabel('log regularization strength')\n",
    "plt.title('Boston test accuracy')\n",
    "plt.show()"
   ]
  }
 ],
 "metadata": {
  "kernelspec": {
   "display_name": "Python 3",
   "language": "python",
   "name": "python3"
  },
  "language_info": {
   "codemirror_mode": {
    "name": "ipython",
    "version": 3
   },
   "file_extension": ".py",
   "mimetype": "text/x-python",
   "name": "python",
   "nbconvert_exporter": "python",
   "pygments_lexer": "ipython3",
   "version": "3.6.3"
  }
 },
 "nbformat": 4,
 "nbformat_minor": 2
}
